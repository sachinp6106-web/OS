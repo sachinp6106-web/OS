{
 "cells": [
  {
   "cell_type": "markdown",
   "id": "122b213f",
   "metadata": {},
   "source": [
    "## OS"
   ]
  },
  {
   "cell_type": "code",
   "execution_count": 23,
   "id": "55b94996",
   "metadata": {},
   "outputs": [],
   "source": [
    "import os    # import is a keyword that is used to include modules in Python"
   ]
  },
  {
   "cell_type": "code",
   "execution_count": 24,
   "id": "9909045d",
   "metadata": {},
   "outputs": [
    {
     "name": "stdout",
     "output_type": "stream",
     "text": [
      "c:\\Users\\STM\\Desktop\\1 july data science\\Os\n"
     ]
    }
   ],
   "source": [
    "file=os.getcwd()  # getcwd() is a method that returns the current working directory\n",
    "print(file)"
   ]
  },
  {
   "cell_type": "code",
   "execution_count": 25,
   "id": "4d5ad1e2",
   "metadata": {},
   "outputs": [
    {
     "name": "stdout",
     "output_type": "stream",
     "text": [
      "total file in this directory: ['data science', 'os.ipynb', 'Tastt']\n"
     ]
    }
   ],
   "source": [
    "file=os.listdir(r\"c:\\Users\\STM\\Desktop\\1 july data science\\Os\")  # listdir() is a method that returns a list of all files and directories in the specified path\n",
    "print(\"total file in this directory:\",file)"
   ]
  },
  {
   "cell_type": "code",
   "execution_count": 26,
   "id": "42ced6c2",
   "metadata": {},
   "outputs": [
    {
     "data": {
      "text/plain": [
       "['New folder (2)',\n",
       " 'New folder (3)',\n",
       " 'os',\n",
       " 'pandas',\n",
       " 'project',\n",
       " 'py',\n",
       " 'python',\n",
       " 'python2',\n",
       " 'README.md']"
      ]
     },
     "execution_count": 26,
     "metadata": {},
     "output_type": "execute_result"
    }
   ],
   "source": [
    "path=r\"C:\\Users\\STM\\Desktop\\23 data science\"  # listdir() is a method that returns a list of all files and directories in the specified path\n",
    "os.listdir(path)"
   ]
  },
  {
   "cell_type": "code",
   "execution_count": 32,
   "id": "1940c818",
   "metadata": {},
   "outputs": [
    {
     "name": "stdout",
     "output_type": "stream",
     "text": [
      "test directory created\n"
     ]
    }
   ],
   "source": [
    "os.mkdir(\"Test\")   #it will create a folder named test\n",
    "print(\"test directory created\")"
   ]
  },
  {
   "cell_type": "code",
   "execution_count": 33,
   "id": "c19e1547",
   "metadata": {},
   "outputs": [
    {
     "data": {
      "text/plain": [
       "['data science', 'os.ipynb', 'Tast', 'Tastt', 'Test']"
      ]
     },
     "execution_count": 33,
     "metadata": {},
     "output_type": "execute_result"
    }
   ],
   "source": [
    "os.listdir(os.getcwd())   # to check if the folder is created or not"
   ]
  },
  {
   "cell_type": "code",
   "execution_count": 36,
   "id": "b958759a",
   "metadata": {},
   "outputs": [
    {
     "name": "stdout",
     "output_type": "stream",
     "text": [
      "Test directory renamed to data science\n"
     ]
    }
   ],
   "source": [
    "os.rename(\"Test\",\"DataScience\")      # it will rename the folder test to data science\n",
    "print(\"Test directory renamed to data science\")"
   ]
  },
  {
   "cell_type": "code",
   "execution_count": 40,
   "id": "39d4fadc",
   "metadata": {},
   "outputs": [
    {
     "name": "stdout",
     "output_type": "stream",
     "text": [
      "Tastt directory removed\n"
     ]
    }
   ],
   "source": [
    "os.rmdir(\"Tastt\")  # it will remove the folder none\n",
    "print(\"Tastt directory removed\")"
   ]
  },
  {
   "cell_type": "code",
   "execution_count": 41,
   "id": "d392c30b",
   "metadata": {},
   "outputs": [
    {
     "name": "stdout",
     "output_type": "stream",
     "text": [
      "data science directory removed\n"
     ]
    }
   ],
   "source": [
    "os.rmdir(\"data science\")  # it will remove the folder named 'data science'\n",
    "print(\"data science directory removed\")"
   ]
  },
  {
   "cell_type": "code",
   "execution_count": 42,
   "id": "1ffdeabc",
   "metadata": {},
   "outputs": [
    {
     "data": {
      "text/plain": [
       "'c:\\\\Users\\\\STM\\\\Desktop\\\\1 july data science\\\\Os'"
      ]
     },
     "execution_count": 42,
     "metadata": {},
     "output_type": "execute_result"
    }
   ],
   "source": [
    "os.getcwd()  # it will return the current working directory"
   ]
  },
  {
   "cell_type": "code",
   "execution_count": 43,
   "id": "25c311ce",
   "metadata": {},
   "outputs": [
    {
     "name": "stdout",
     "output_type": "stream",
     "text": [
      "path exit None\n"
     ]
    }
   ],
   "source": [
    "path=r\"c:\\\\Users\\\\nanus\\\\OneDrive\\\\Desktop\\\\DS 1st JUly\\\\OS\"\n",
    "path=os.environ.get(path)\n",
    "print(\"path exit\",path)   # it will return the environment variable for the specified path"
   ]
  },
  {
   "cell_type": "code",
   "execution_count": 44,
   "id": "60bd9cea",
   "metadata": {},
   "outputs": [
    {
     "data": {
      "text/plain": [
       "0"
      ]
     },
     "execution_count": 44,
     "metadata": {},
     "output_type": "execute_result"
    }
   ],
   "source": [
    "os.system(\"path\")  # it will return the environment variable for the specified path"
   ]
  },
  {
   "cell_type": "code",
   "execution_count": 48,
   "id": "e8e3ea12",
   "metadata": {},
   "outputs": [
    {
     "data": {
      "text/plain": [
       "False"
      ]
     },
     "execution_count": 48,
     "metadata": {},
     "output_type": "execute_result"
    }
   ],
   "source": [
    "path=r\"C:\\Users\\STM\\Desktop\\23 data science\\os\"\n",
    "os.path.isfile(path)   # it will return True if the path is a file, otherwise False"
   ]
  },
  {
   "cell_type": "code",
   "execution_count": 47,
   "id": "41d98a87",
   "metadata": {},
   "outputs": [
    {
     "data": {
      "text/plain": [
       "True"
      ]
     },
     "execution_count": 47,
     "metadata": {},
     "output_type": "execute_result"
    }
   ],
   "source": [
    "path=r\"C:\\Users\\STM\\Desktop\\23 data science\\os\"\n",
    "os.path.isdir(path)   # it will return True if the path is a directory, otherwise False"
   ]
  },
  {
   "cell_type": "code",
   "execution_count": 50,
   "id": "151a642b",
   "metadata": {},
   "outputs": [
    {
     "name": "stdout",
     "output_type": "stream",
     "text": [
      "C:\\Users\\STM\\Desktop\\23 data science\\os\n",
      "['basic.ipynb', 'data sciences', 'none']\n"
     ]
    }
   ],
   "source": [
    "path1=r\"C:\\Users\\STM\\Desktop\\1 july data science\"\n",
    "path2=r\"C:\\Users\\STM\\Desktop\\23 data science\\os\"\n",
    "complete=os.path.join(path1,path2)\n",
    "print(complete)\n",
    "oslist=os.listdir(complete)\n",
    "print(oslist)   # it will return a list of all files and directories in the specified path"
   ]
  },
  {
   "cell_type": "code",
   "execution_count": 52,
   "id": "f58e6d15",
   "metadata": {},
   "outputs": [
    {
     "name": "stdout",
     "output_type": "stream",
     "text": [
      "size of the file(in bytes) is: 0\n"
     ]
    }
   ],
   "source": [
    "path=r\"C:\\Users\\STM\\Desktop\\1 july data science\\Numpy\"\n",
    "size=os.path.getsize(path)\n",
    "print(\"size of the file(in bytes) is:\",size)   # it will return the size of the file in bytes"
   ]
  },
  {
   "cell_type": "code",
   "execution_count": 54,
   "id": "4da356b3",
   "metadata": {},
   "outputs": [
    {
     "name": "stdout",
     "output_type": "stream",
     "text": [
      "before dir c:\\Users\\STM\\Desktop\\1 july data science\\Os\n",
      "after dir C:\\Users\\STM\\Desktop\\1 july data science\\Python\n"
     ]
    }
   ],
   "source": [
    "print(\"before dir\",os.getcwd())\n",
    "os.chdir(r\"C:\\Users\\STM\\Desktop\\1 july data science\\Python\")  # chdir() is a method that changes the current working directory to the specified path\n",
    "print(\"after dir\",os.getcwd())"
   ]
  },
  {
   "cell_type": "code",
   "execution_count": null,
   "id": "e375a4fd",
   "metadata": {},
   "outputs": [],
   "source": []
  }
 ],
 "metadata": {
  "kernelspec": {
   "display_name": "Python 3",
   "language": "python",
   "name": "python3"
  },
  "language_info": {
   "codemirror_mode": {
    "name": "ipython",
    "version": 3
   },
   "file_extension": ".py",
   "mimetype": "text/x-python",
   "name": "python",
   "nbconvert_exporter": "python",
   "pygments_lexer": "ipython3",
   "version": "3.11.5"
  }
 },
 "nbformat": 4,
 "nbformat_minor": 5
}
